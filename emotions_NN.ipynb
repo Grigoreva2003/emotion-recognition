{
  "nbformat": 4,
  "nbformat_minor": 0,
  "metadata": {
    "colab": {
      "provenance": [],
      "gpuType": "T4",
      "toc_visible": true
    },
    "kernelspec": {
      "name": "python3",
      "display_name": "Python 3"
    },
    "language_info": {
      "name": "python"
    },
    "gpuClass": "standard"
  },
  "cells": [
    {
      "cell_type": "markdown",
      "source": [
        "\n",
        "# Default Libraries Installation"
      ],
      "metadata": {
        "id": "IFuSnHKz1zuz"
      }
    },
    {
      "cell_type": "code",
      "source": [
        "import tensorflow as tf\n",
        "\n",
        "\n",
        "device_name = tf.test.gpu_device_name()\n",
        "if device_name != '/device:GPU:0':\n",
        "  raise SystemError('GPU device not found')\n",
        "print('Found GPU at: {}'.format(device_name))"
      ],
      "metadata": {
        "id": "za8eHmDVsBv7"
      },
      "execution_count": 1,
      "outputs": []
    },
    {
      "cell_type": "code",
      "execution_count": 2,
      "metadata": {
        "colab": {
          "base_uri": "https://localhost:8080/"
        },
        "id": "SAE2ahjVvHg4",
        "outputId": "ecdc6643-635f-489d-db3a-0e3ebdf0468a"
      },
      "outputs": [
        {
          "output_type": "stream",
          "name": "stdout",
          "text": [
            "Looking in indexes: https://pypi.org/simple, https://us-python.pkg.dev/colab-wheels/public/simple/\n",
            "Collecting keras_vggface\n",
            "  Downloading keras_vggface-0.6-py3-none-any.whl (8.3 kB)\n",
            "Requirement already satisfied: six>=1.9.0 in /usr/local/lib/python3.10/dist-packages (from keras_vggface) (1.16.0)\n",
            "Requirement already satisfied: h5py in /usr/local/lib/python3.10/dist-packages (from keras_vggface) (3.8.0)\n",
            "Requirement already satisfied: keras in /usr/local/lib/python3.10/dist-packages (from keras_vggface) (2.12.0)\n",
            "Requirement already satisfied: pyyaml in /usr/local/lib/python3.10/dist-packages (from keras_vggface) (6.0)\n",
            "Requirement already satisfied: scipy>=0.14 in /usr/local/lib/python3.10/dist-packages (from keras_vggface) (1.10.1)\n",
            "Requirement already satisfied: numpy>=1.9.1 in /usr/local/lib/python3.10/dist-packages (from keras_vggface) (1.22.4)\n",
            "Requirement already satisfied: pillow in /usr/local/lib/python3.10/dist-packages (from keras_vggface) (8.4.0)\n",
            "Installing collected packages: keras_vggface\n",
            "Successfully installed keras_vggface-0.6\n",
            "Looking in indexes: https://pypi.org/simple, https://us-python.pkg.dev/colab-wheels/public/simple/\n",
            "Collecting livelossplot\n",
            "  Downloading livelossplot-0.5.5-py3-none-any.whl (22 kB)\n",
            "Requirement already satisfied: bokeh in /usr/local/lib/python3.10/dist-packages (from livelossplot) (2.4.3)\n",
            "Requirement already satisfied: matplotlib in /usr/local/lib/python3.10/dist-packages (from livelossplot) (3.7.1)\n",
            "Requirement already satisfied: PyYAML>=3.10 in /usr/local/lib/python3.10/dist-packages (from bokeh->livelossplot) (6.0)\n",
            "Requirement already satisfied: packaging>=16.8 in /usr/local/lib/python3.10/dist-packages (from bokeh->livelossplot) (23.1)\n",
            "Requirement already satisfied: typing-extensions>=3.10.0 in /usr/local/lib/python3.10/dist-packages (from bokeh->livelossplot) (4.5.0)\n",
            "Requirement already satisfied: numpy>=1.11.3 in /usr/local/lib/python3.10/dist-packages (from bokeh->livelossplot) (1.22.4)\n",
            "Requirement already satisfied: pillow>=7.1.0 in /usr/local/lib/python3.10/dist-packages (from bokeh->livelossplot) (8.4.0)\n",
            "Requirement already satisfied: Jinja2>=2.9 in /usr/local/lib/python3.10/dist-packages (from bokeh->livelossplot) (3.1.2)\n",
            "Requirement already satisfied: tornado>=5.1 in /usr/local/lib/python3.10/dist-packages (from bokeh->livelossplot) (6.2)\n",
            "Requirement already satisfied: kiwisolver>=1.0.1 in /usr/local/lib/python3.10/dist-packages (from matplotlib->livelossplot) (1.4.4)\n",
            "Requirement already satisfied: cycler>=0.10 in /usr/local/lib/python3.10/dist-packages (from matplotlib->livelossplot) (0.11.0)\n",
            "Requirement already satisfied: fonttools>=4.22.0 in /usr/local/lib/python3.10/dist-packages (from matplotlib->livelossplot) (4.39.3)\n",
            "Requirement already satisfied: pyparsing>=2.3.1 in /usr/local/lib/python3.10/dist-packages (from matplotlib->livelossplot) (3.0.9)\n",
            "Requirement already satisfied: python-dateutil>=2.7 in /usr/local/lib/python3.10/dist-packages (from matplotlib->livelossplot) (2.8.2)\n",
            "Requirement already satisfied: contourpy>=1.0.1 in /usr/local/lib/python3.10/dist-packages (from matplotlib->livelossplot) (1.0.7)\n",
            "Requirement already satisfied: MarkupSafe>=2.0 in /usr/local/lib/python3.10/dist-packages (from Jinja2>=2.9->bokeh->livelossplot) (2.1.2)\n",
            "Requirement already satisfied: six>=1.5 in /usr/local/lib/python3.10/dist-packages (from python-dateutil>=2.7->matplotlib->livelossplot) (1.16.0)\n",
            "Installing collected packages: livelossplot\n",
            "Successfully installed livelossplot-0.5.5\n",
            "Looking in indexes: https://pypi.org/simple, https://us-python.pkg.dev/colab-wheels/public/simple/\n",
            "Collecting keras_applications\n",
            "  Downloading Keras_Applications-1.0.8-py3-none-any.whl (50 kB)\n",
            "\u001b[2K     \u001b[90m━━━━━━━━━━━━━━━━━━━━━━━━━━━━━━━━━━━━━━━━\u001b[0m \u001b[32m50.7/50.7 kB\u001b[0m \u001b[31m2.7 MB/s\u001b[0m eta \u001b[36m0:00:00\u001b[0m\n",
            "\u001b[?25hInstalling collected packages: keras_applications\n",
            "Successfully installed keras_applications-1.0.8\n"
          ]
        }
      ],
      "source": [
        "!pip install keras_vggface\n",
        "!pip install livelossplot\n",
        "!pip install keras_applications --no-deps"
      ]
    },
    {
      "cell_type": "markdown",
      "source": [
        "# Importing Essentials"
      ],
      "metadata": {
        "id": "jEnMDMzC104h"
      }
    },
    {
      "cell_type": "code",
      "source": [
        "import numpy as np\n",
        "import pandas as pd\n",
        "\n",
        "from tensorflow import keras\n",
        "from keras.models import model_from_json\n",
        "from PIL import Image\n",
        "from livelossplot import PlotLosses\n",
        "from keras_vggface.vggface import VGGFace\n",
        "# change for\n",
        "# from keras.utils.layer_utils import get_source_inputs\n",
        "\n",
        "import matplotlib.pyplot as plt\n",
        "from keras_vggface import utils\n",
        "\n",
        "from keras.preprocessing.image import ImageDataGenerator\n",
        "from tensorflow.keras.layers import Dense, Input, Dropout, Flatten, Conv2D\n",
        "from tensorflow.keras.layers import BatchNormalization, Activation, MaxPooling2D\n",
        "from keras.models import Model, Sequential\n",
        "from tensorflow.keras.optimizers import Adam\n",
        "from keras.callbacks import ModelCheckpoint, ReduceLROnPlateau\n",
        "from keras_vggface.utils import preprocess_input as preprocess_input_vggface\n",
        "\n",
        "%matplotlib inline"
      ],
      "metadata": {
        "id": "U_iL_zFpvo7z"
      },
      "execution_count": 4,
      "outputs": []
    },
    {
      "cell_type": "markdown",
      "source": [
        "# Loading Dataset from Kaggle"
      ],
      "metadata": {
        "id": "zSQvnQKGD5kv"
      }
    },
    {
      "cell_type": "code",
      "source": [
        " !pip install -q kaggle"
      ],
      "metadata": {
        "id": "lKxF2_czClgl"
      },
      "execution_count": 5,
      "outputs": []
    },
    {
      "cell_type": "code",
      "source": [
        "# сюда подгружать файл kaggle.jsonс ключами\n",
        "from google.colab import files\n",
        "\n",
        "files.upload()"
      ],
      "metadata": {
        "colab": {
          "base_uri": "https://localhost:8080/",
          "height": 90
        },
        "id": "1qtrV7UFCsfs",
        "outputId": "07dbf7d8-cd85-417e-b149-e5130742dccf"
      },
      "execution_count": 6,
      "outputs": [
        {
          "output_type": "display_data",
          "data": {
            "text/plain": [
              "<IPython.core.display.HTML object>"
            ],
            "text/html": [
              "\n",
              "     <input type=\"file\" id=\"files-137bf30d-8d5a-4d60-9510-c8253416c1b8\" name=\"files[]\" multiple disabled\n",
              "        style=\"border:none\" />\n",
              "     <output id=\"result-137bf30d-8d5a-4d60-9510-c8253416c1b8\">\n",
              "      Upload widget is only available when the cell has been executed in the\n",
              "      current browser session. Please rerun this cell to enable.\n",
              "      </output>\n",
              "      <script>// Copyright 2017 Google LLC\n",
              "//\n",
              "// Licensed under the Apache License, Version 2.0 (the \"License\");\n",
              "// you may not use this file except in compliance with the License.\n",
              "// You may obtain a copy of the License at\n",
              "//\n",
              "//      http://www.apache.org/licenses/LICENSE-2.0\n",
              "//\n",
              "// Unless required by applicable law or agreed to in writing, software\n",
              "// distributed under the License is distributed on an \"AS IS\" BASIS,\n",
              "// WITHOUT WARRANTIES OR CONDITIONS OF ANY KIND, either express or implied.\n",
              "// See the License for the specific language governing permissions and\n",
              "// limitations under the License.\n",
              "\n",
              "/**\n",
              " * @fileoverview Helpers for google.colab Python module.\n",
              " */\n",
              "(function(scope) {\n",
              "function span(text, styleAttributes = {}) {\n",
              "  const element = document.createElement('span');\n",
              "  element.textContent = text;\n",
              "  for (const key of Object.keys(styleAttributes)) {\n",
              "    element.style[key] = styleAttributes[key];\n",
              "  }\n",
              "  return element;\n",
              "}\n",
              "\n",
              "// Max number of bytes which will be uploaded at a time.\n",
              "const MAX_PAYLOAD_SIZE = 100 * 1024;\n",
              "\n",
              "function _uploadFiles(inputId, outputId) {\n",
              "  const steps = uploadFilesStep(inputId, outputId);\n",
              "  const outputElement = document.getElementById(outputId);\n",
              "  // Cache steps on the outputElement to make it available for the next call\n",
              "  // to uploadFilesContinue from Python.\n",
              "  outputElement.steps = steps;\n",
              "\n",
              "  return _uploadFilesContinue(outputId);\n",
              "}\n",
              "\n",
              "// This is roughly an async generator (not supported in the browser yet),\n",
              "// where there are multiple asynchronous steps and the Python side is going\n",
              "// to poll for completion of each step.\n",
              "// This uses a Promise to block the python side on completion of each step,\n",
              "// then passes the result of the previous step as the input to the next step.\n",
              "function _uploadFilesContinue(outputId) {\n",
              "  const outputElement = document.getElementById(outputId);\n",
              "  const steps = outputElement.steps;\n",
              "\n",
              "  const next = steps.next(outputElement.lastPromiseValue);\n",
              "  return Promise.resolve(next.value.promise).then((value) => {\n",
              "    // Cache the last promise value to make it available to the next\n",
              "    // step of the generator.\n",
              "    outputElement.lastPromiseValue = value;\n",
              "    return next.value.response;\n",
              "  });\n",
              "}\n",
              "\n",
              "/**\n",
              " * Generator function which is called between each async step of the upload\n",
              " * process.\n",
              " * @param {string} inputId Element ID of the input file picker element.\n",
              " * @param {string} outputId Element ID of the output display.\n",
              " * @return {!Iterable<!Object>} Iterable of next steps.\n",
              " */\n",
              "function* uploadFilesStep(inputId, outputId) {\n",
              "  const inputElement = document.getElementById(inputId);\n",
              "  inputElement.disabled = false;\n",
              "\n",
              "  const outputElement = document.getElementById(outputId);\n",
              "  outputElement.innerHTML = '';\n",
              "\n",
              "  const pickedPromise = new Promise((resolve) => {\n",
              "    inputElement.addEventListener('change', (e) => {\n",
              "      resolve(e.target.files);\n",
              "    });\n",
              "  });\n",
              "\n",
              "  const cancel = document.createElement('button');\n",
              "  inputElement.parentElement.appendChild(cancel);\n",
              "  cancel.textContent = 'Cancel upload';\n",
              "  const cancelPromise = new Promise((resolve) => {\n",
              "    cancel.onclick = () => {\n",
              "      resolve(null);\n",
              "    };\n",
              "  });\n",
              "\n",
              "  // Wait for the user to pick the files.\n",
              "  const files = yield {\n",
              "    promise: Promise.race([pickedPromise, cancelPromise]),\n",
              "    response: {\n",
              "      action: 'starting',\n",
              "    }\n",
              "  };\n",
              "\n",
              "  cancel.remove();\n",
              "\n",
              "  // Disable the input element since further picks are not allowed.\n",
              "  inputElement.disabled = true;\n",
              "\n",
              "  if (!files) {\n",
              "    return {\n",
              "      response: {\n",
              "        action: 'complete',\n",
              "      }\n",
              "    };\n",
              "  }\n",
              "\n",
              "  for (const file of files) {\n",
              "    const li = document.createElement('li');\n",
              "    li.append(span(file.name, {fontWeight: 'bold'}));\n",
              "    li.append(span(\n",
              "        `(${file.type || 'n/a'}) - ${file.size} bytes, ` +\n",
              "        `last modified: ${\n",
              "            file.lastModifiedDate ? file.lastModifiedDate.toLocaleDateString() :\n",
              "                                    'n/a'} - `));\n",
              "    const percent = span('0% done');\n",
              "    li.appendChild(percent);\n",
              "\n",
              "    outputElement.appendChild(li);\n",
              "\n",
              "    const fileDataPromise = new Promise((resolve) => {\n",
              "      const reader = new FileReader();\n",
              "      reader.onload = (e) => {\n",
              "        resolve(e.target.result);\n",
              "      };\n",
              "      reader.readAsArrayBuffer(file);\n",
              "    });\n",
              "    // Wait for the data to be ready.\n",
              "    let fileData = yield {\n",
              "      promise: fileDataPromise,\n",
              "      response: {\n",
              "        action: 'continue',\n",
              "      }\n",
              "    };\n",
              "\n",
              "    // Use a chunked sending to avoid message size limits. See b/62115660.\n",
              "    let position = 0;\n",
              "    do {\n",
              "      const length = Math.min(fileData.byteLength - position, MAX_PAYLOAD_SIZE);\n",
              "      const chunk = new Uint8Array(fileData, position, length);\n",
              "      position += length;\n",
              "\n",
              "      const base64 = btoa(String.fromCharCode.apply(null, chunk));\n",
              "      yield {\n",
              "        response: {\n",
              "          action: 'append',\n",
              "          file: file.name,\n",
              "          data: base64,\n",
              "        },\n",
              "      };\n",
              "\n",
              "      let percentDone = fileData.byteLength === 0 ?\n",
              "          100 :\n",
              "          Math.round((position / fileData.byteLength) * 100);\n",
              "      percent.textContent = `${percentDone}% done`;\n",
              "\n",
              "    } while (position < fileData.byteLength);\n",
              "  }\n",
              "\n",
              "  // All done.\n",
              "  yield {\n",
              "    response: {\n",
              "      action: 'complete',\n",
              "    }\n",
              "  };\n",
              "}\n",
              "\n",
              "scope.google = scope.google || {};\n",
              "scope.google.colab = scope.google.colab || {};\n",
              "scope.google.colab._files = {\n",
              "  _uploadFiles,\n",
              "  _uploadFilesContinue,\n",
              "};\n",
              "})(self);\n",
              "</script> "
            ]
          },
          "metadata": {}
        },
        {
          "output_type": "stream",
          "name": "stdout",
          "text": [
            "Saving kaggle.json to kaggle.json\n"
          ]
        },
        {
          "output_type": "execute_result",
          "data": {
            "text/plain": [
              "{'kaggle.json': b'{\"username\":\"grigorevaaaaa\",\"key\":\"526b3bce72bdee94e15af8ddaeba0cdd\"}'}"
            ]
          },
          "metadata": {},
          "execution_count": 6
        }
      ]
    },
    {
      "cell_type": "code",
      "source": [
        "!cp kaggle.json ~/.kaggle/\n",
        "!chmod 600 ~/.kaggle/kaggle.json\n",
        "!kaggle datasets list"
      ],
      "metadata": {
        "colab": {
          "base_uri": "https://localhost:8080/"
        },
        "id": "69bj8NpNC1d5",
        "outputId": "1e9cbb12-b924-4630-85d9-9a1cc7a20247"
      },
      "execution_count": 8,
      "outputs": [
        {
          "output_type": "stream",
          "name": "stdout",
          "text": [
            "ref                                                                title                                              size  lastUpdated          downloadCount  voteCount  usabilityRating  \n",
            "-----------------------------------------------------------------  ------------------------------------------------  -----  -------------------  -------------  ---------  ---------------  \n",
            "arnabchaki/data-science-salaries-2023                              Data Science Salaries 2023 💸                       25KB  2023-04-13 09:55:16           9178        243  1.0              \n",
            "asahu40/walmart-data-analysis-and-forcasting                       Walmart Data Analysis and Forcasting              122KB  2023-04-26 07:07:03           1128         30  1.0              \n",
            "ahmedshahriarsakib/usa-real-estate-dataset                         USA Real Estate Dataset                             1MB  2023-04-30 03:51:36            857         26  1.0              \n",
            "iammustafatz/diabetes-prediction-dataset                           Diabetes prediction dataset                       734KB  2023-04-08 06:11:45           4812         71  1.0              \n",
            "desalegngeb/students-exam-scores                                   Students Exam Scores: Extended Dataset            695KB  2023-04-14 00:15:38           3574         88  1.0              \n",
            "sougatapramanick/happiness-index-2018-2019                         Happiness Index 2018-2019                          15KB  2023-04-14 12:01:03           1120         23  1.0              \n",
            "salvatorerastelli/spotify-and-youtube                              Spotify and Youtube                                 9MB  2023-03-20 15:43:25          13178        430  1.0              \n",
            "rajkumarpandey02/list-of-epidemics-and-pandemics-in-world-history  List of Epidemics and Pandemics in World History   10KB  2023-05-04 09:22:07            291         22  1.0              \n",
            "nadyinky/sephora-products-and-skincare-reviews                     Sephora Products and Skincare Reviews             175MB  2023-04-22 10:50:45            684         27  1.0              \n",
            "r1shabhgupta/best-movies-on-netflix                                Top 100 Movies on Netflix                          32KB  2023-04-13 15:34:38            644         21  0.9411765        \n",
            "thabresh/2023-countries-by-population                              2023 Countries by Population                       17KB  2023-04-20 08:50:50            501         24  0.88235295       \n",
            "harshghadiya/covid-19-country-statistics-dataset                   Covid-19-country-statistics-dataset                13KB  2023-04-27 23:22:02            523         21  0.7647059        \n",
            "mohamedafsal007/house-price-dataset-of-india                       House Price dataset of India                      480KB  2023-03-27 06:22:55           8867        100  0.88235295       \n",
            "arnabchaki/indian-restaurants-2023                                 Indian Restaurants 2023 🍲                         139KB  2023-04-27 09:57:57           1170         34  1.0              \n",
            "lokeshparab/amazon-products-dataset                                Amazon Products Sales Dataset 2023                 80MB  2023-03-26 10:45:19           7331        153  1.0              \n",
            "utkarshx27/motor-vehicle-collisions                                Motor Vehicle Collisions                           78MB  2023-04-30 06:43:34            381         23  1.0              \n",
            "bilalwaseer/all-time-worldwide-box-office-for-action-movies        All Time Worldwide Box Office for Action Movies    51KB  2023-04-29 11:54:51            507         27  1.0              \n",
            "erdemtaha/cancer-data                                              Cancer Data                                        49KB  2023-03-22 07:57:00           7034        131  1.0              \n",
            "tayyarhussain/best-selling-video-games-of-all-time                 Best-Selling Video Games of All Time                2KB  2023-04-26 21:57:31            833         35  1.0              \n",
            "dansbecker/melbourne-housing-snapshot                              Melbourne Housing Snapshot                        451KB  2018-06-05 12:52:24         114617       1259  0.7058824        \n"
          ]
        }
      ]
    },
    {
      "cell_type": "code",
      "source": [
        "!kaggle datasets download -d msambare/fer2013\n",
        "!mkdir fer_dataset\n",
        "!unzip fer2013.zip -d fer_dataset"
      ],
      "metadata": {
        "id": "2ATI0MhvEOV2"
      },
      "execution_count": null,
      "outputs": []
    },
    {
      "cell_type": "markdown",
      "source": [
        "# Model Training"
      ],
      "metadata": {
        "id": "C5BnY9yLKiz3"
      }
    },
    {
      "cell_type": "code",
      "source": [
        "train_datagen = ImageDataGenerator(rescale = 1./255,\n",
        "                                   validation_split = 0.2,\n",
        "                                    rotation_range=5,\n",
        "                                    width_shift_range=0.2,\n",
        "                                    height_shift_range=0.2,\n",
        "                                    shear_range=0.2,\n",
        "                                    horizontal_flip=True,\n",
        "                                    vertical_flip=True,\n",
        "                                    fill_mode='nearest')\n",
        "\n",
        "valid_datagen = ImageDataGenerator(rescale = 1./255,\n",
        "                                  validation_split = 0.2)\n",
        "\n",
        "test_datagen  = ImageDataGenerator(rescale = 1./255)"
      ],
      "metadata": {
        "id": "aocVuZ8kW_mi"
      },
      "execution_count": null,
      "outputs": []
    },
    {
      "cell_type": "code",
      "source": [
        "train_dataset  = train_datagen.flow_from_directory(directory = '/content/fer_dataset/train',\n",
        "                                                   target_size = (48,48),\n",
        "                                                   class_mode = 'categorical',\n",
        "                                                   subset = 'training',\n",
        "                                                   batch_size = 64)"
      ],
      "metadata": {
        "colab": {
          "base_uri": "https://localhost:8080/"
        },
        "id": "cLCCTQczJTXb",
        "outputId": "de5ee3b4-2fe8-4abd-9349-e1aefcc4b905"
      },
      "execution_count": null,
      "outputs": [
        {
          "output_type": "stream",
          "name": "stdout",
          "text": [
            "Found 22968 images belonging to 7 classes.\n"
          ]
        }
      ]
    },
    {
      "cell_type": "code",
      "source": [
        "valid_dataset = valid_datagen.flow_from_directory(directory = '/content/fer_dataset/train',\n",
        "                                                  target_size = (48,48),\n",
        "                                                  class_mode = 'categorical',\n",
        "                                                  subset = 'validation',\n",
        "                                                  batch_size = 64)"
      ],
      "metadata": {
        "colab": {
          "base_uri": "https://localhost:8080/"
        },
        "id": "JlK5EczTKn8s",
        "outputId": "61e6a4e6-1ead-46ec-d002-e7fcb28b4403"
      },
      "execution_count": null,
      "outputs": [
        {
          "output_type": "stream",
          "name": "stdout",
          "text": [
            "Found 5741 images belonging to 7 classes.\n"
          ]
        }
      ]
    },
    {
      "cell_type": "code",
      "source": [
        "test_dataset = test_datagen.flow_from_directory(directory = '/content/fer_dataset/test',\n",
        "                                                  target_size = (48,48),\n",
        "                                                  class_mode = 'categorical',\n",
        "                                                  batch_size = 64)"
      ],
      "metadata": {
        "colab": {
          "base_uri": "https://localhost:8080/"
        },
        "id": "PhAvS7fkKpMy",
        "outputId": "980a369f-c772-47ef-adc1-d7fa7865fea9"
      },
      "execution_count": null,
      "outputs": [
        {
          "output_type": "stream",
          "name": "stdout",
          "text": [
            "Found 7178 images belonging to 7 classes.\n"
          ]
        }
      ]
    },
    {
      "cell_type": "code",
      "source": [
        "emotion_dict = train_dataset.class_indices\n",
        "emotion_dict"
      ],
      "metadata": {
        "id": "kbBnYn5EQjly",
        "colab": {
          "base_uri": "https://localhost:8080/"
        },
        "outputId": "4f87269d-b940-40d8-9d0d-4781497d7257"
      },
      "execution_count": null,
      "outputs": [
        {
          "output_type": "execute_result",
          "data": {
            "text/plain": [
              "{'angry': 0,\n",
              " 'disgust': 1,\n",
              " 'fear': 2,\n",
              " 'happy': 3,\n",
              " 'neutral': 4,\n",
              " 'sad': 5,\n",
              " 'surprise': 6}"
            ]
          },
          "metadata": {},
          "execution_count": 22
        }
      ]
    },
    {
      "cell_type": "code",
      "source": [
        "# Load VGGFace model\n",
        "vggface_model = VGGFace(include_top=False,\n",
        "                        input_shape=(48, 48, 3))"
      ],
      "metadata": {
        "id": "y7X41LY6SpAd",
        "colab": {
          "base_uri": "https://localhost:8080/"
        },
        "outputId": "8caf8a2a-65f2-4839-c760-2ca52c2da94e"
      },
      "execution_count": 9,
      "outputs": [
        {
          "output_type": "stream",
          "name": "stdout",
          "text": [
            "Downloading data from https://github.com/rcmalli/keras-vggface/releases/download/v2.0/rcmalli_vggface_tf_notop_vgg16.h5\n",
            "58909280/58909280 [==============================] - 1s 0us/step\n"
          ]
        }
      ]
    },
    {
      "cell_type": "code",
      "source": [
        "# Freezing Layers\n",
        "\n",
        "for layer in vggface_model.layers[:-4]:\n",
        "    layer.trainable=False"
      ],
      "metadata": {
        "id": "5RmhASENW0eF"
      },
      "execution_count": 10,
      "outputs": []
    },
    {
      "cell_type": "code",
      "source": [
        "# Building Model\n",
        "\n",
        "model=Sequential()\n",
        "model.add(vggface_model)\n",
        "model.add(Dropout(0.5))\n",
        "model.add(Flatten())\n",
        "model.add(BatchNormalization())\n",
        "model.add(Activation('relu'))\n",
        "model.add(Dense(7, activation='softmax'))"
      ],
      "metadata": {
        "id": "9KZh_7YlW38f"
      },
      "execution_count": 11,
      "outputs": []
    },
    {
      "cell_type": "code",
      "source": [
        "# Model Summary\n",
        "\n",
        "model.summary()"
      ],
      "metadata": {
        "colab": {
          "base_uri": "https://localhost:8080/"
        },
        "id": "Rpf79N6DW--W",
        "outputId": "90c719d0-621d-4f4f-9369-612426e59652"
      },
      "execution_count": 12,
      "outputs": [
        {
          "output_type": "stream",
          "name": "stdout",
          "text": [
            "Model: \"sequential\"\n",
            "_________________________________________________________________\n",
            " Layer (type)                Output Shape              Param #   \n",
            "=================================================================\n",
            " vggface_vgg16 (Functional)  (None, 1, 1, 512)         14714688  \n",
            "                                                                 \n",
            " dropout (Dropout)           (None, 1, 1, 512)         0         \n",
            "                                                                 \n",
            " flatten (Flatten)           (None, 512)               0         \n",
            "                                                                 \n",
            " batch_normalization (BatchN  (None, 512)              2048      \n",
            " ormalization)                                                   \n",
            "                                                                 \n",
            " activation (Activation)     (None, 512)               0         \n",
            "                                                                 \n",
            " dense (Dense)               (None, 7)                 3591      \n",
            "                                                                 \n",
            "=================================================================\n",
            "Total params: 14,720,327\n",
            "Trainable params: 7,084,039\n",
            "Non-trainable params: 7,636,288\n",
            "_________________________________________________________________\n"
          ]
        }
      ]
    },
    {
      "cell_type": "code",
      "source": [
        "from keras.utils.vis_utils import plot_model\n",
        "\n",
        "plot_model(model, to_file='model_plot.png', show_shapes=True, show_layer_names=True)"
      ],
      "metadata": {
        "colab": {
          "base_uri": "https://localhost:8080/",
          "height": 754
        },
        "id": "atbcEp5DzvZd",
        "outputId": "4fb99283-cb8d-4230-f4f1-1d512eecb5a6"
      },
      "execution_count": 13,
      "outputs": [
        {
          "output_type": "execute_result",
          "data": {
            "image/png": "[encoded data removed]",
            "text/plain": [
              "<IPython.core.display.Image object>"
            ]
          },
          "metadata": {},
          "execution_count": 13
        }
      ]
    },
    {
      "cell_type": "code",
      "source": [
        "import keras.backend as K\n",
        "\n",
        "def f1_score(y_true, y_pred): #taken from old keras source code\n",
        "    true_positives = K.sum(K.round(K.clip(y_true * y_pred, 0, 1)))\n",
        "    possible_positives = K.sum(K.round(K.clip(y_true, 0, 1)))\n",
        "    predicted_positives = K.sum(K.round(K.clip(y_pred, 0, 1)))\n",
        "    precision = true_positives / (predicted_positives + K.epsilon())\n",
        "    recall = true_positives / (possible_positives + K.epsilon())\n",
        "    f1_val = 2 * (precision*recall)/(precision+recall+K.epsilon())\n",
        "    return f1_val"
      ],
      "metadata": {
        "id": "tv4nAMcwXOF1"
      },
      "execution_count": null,
      "outputs": []
    },
    {
      "cell_type": "code",
      "source": [
        "METRICS = [\n",
        "      tf.keras.metrics.BinaryAccuracy(name='accuracy'),\n",
        "      tf.keras.metrics.Precision(name='precision'),\n",
        "      tf.keras.metrics.Recall(name='recall'),  \n",
        "      tf.keras.metrics.AUC(name='auc'),\n",
        "      f1_score,\n",
        "]"
      ],
      "metadata": {
        "id": "gwYMNN08XH9v"
      },
      "execution_count": null,
      "outputs": []
    },
    {
      "cell_type": "code",
      "source": [
        "from keras.applications.nasnet import NASNetLarge\n",
        "from tensorflow.keras.callbacks import ReduceLROnPlateau, ModelCheckpoint, EarlyStopping\n",
        "\n",
        "lrd = ReduceLROnPlateau(monitor = 'val_loss',\n",
        "                        patience = 20,\n",
        "                        verbose = 1,\n",
        "                        factor = 0.50, \n",
        "                        min_lr = 1e-10)\n",
        "\n",
        "mcp = ModelCheckpoint('fer_model_saved.h5')\n",
        "\n",
        "es = EarlyStopping(verbose=1, patience=20)"
      ],
      "metadata": {
        "id": "wvoXSAPFXPik"
      },
      "execution_count": null,
      "outputs": []
    },
    {
      "cell_type": "code",
      "source": [
        "model.compile(optimizer='Adam', loss='categorical_crossentropy', metrics=METRICS)"
      ],
      "metadata": {
        "id": "v03RuLcwXieB"
      },
      "execution_count": null,
      "outputs": []
    },
    {
      "cell_type": "code",
      "source": [
        "history = model.fit(train_dataset, \n",
        "                    validation_data=valid_dataset,\n",
        "                    epochs = 100,\n",
        "                    verbose = 1,\n",
        "                    callbacks=[lrd, mcp, es])"
      ],
      "metadata": {
        "colab": {
          "base_uri": "https://localhost:8080/"
        },
        "id": "owTTPE17XlW5",
        "outputId": "a3c9b6e3-1aec-4608-d57d-4d5ca819f0d5"
      },
      "execution_count": null,
      "outputs": [
        {
          "output_type": "stream",
          "name": "stdout",
          "text": [
            "Epoch 1/100\n",
            "359/359 [==============================] - 56s 117ms/step - loss: 1.8055 - accuracy: 0.8573 - precision: 0.5556 - recall: 0.0052 - auc: 0.6513 - f1_score: 0.0101 - val_loss: 1.8122 - val_accuracy: 0.8571 - val_precision: 0.0000e+00 - val_recall: 0.0000e+00 - val_auc: 0.6786 - val_f1_score: 0.0000e+00 - lr: 0.0010\n",
            "Epoch 2/100\n",
            "359/359 [==============================] - 39s 108ms/step - loss: 1.7295 - accuracy: 0.8584 - precision: 0.5645 - recall: 0.0377 - auc: 0.7013 - f1_score: 0.0691 - val_loss: 1.7553 - val_accuracy: 0.8573 - val_precision: 1.0000 - val_recall: 8.7093e-04 - val_auc: 0.7016 - val_f1_score: 0.0017 - lr: 0.0010\n",
            "Epoch 3/100\n",
            "359/359 [==============================] - 39s 108ms/step - loss: 1.6981 - accuracy: 0.8596 - precision: 0.6194 - recall: 0.0448 - auc: 0.7173 - f1_score: 0.0818 - val_loss: 1.8070 - val_accuracy: 0.8572 - val_precision: 1.0000 - val_recall: 1.7419e-04 - val_auc: 0.6725 - val_f1_score: 3.4188e-04 - lr: 0.0010\n",
            "Epoch 4/100\n",
            "359/359 [==============================] - 38s 107ms/step - loss: 1.6646 - accuracy: 0.8616 - precision: 0.6270 - recall: 0.0777 - auc: 0.7333 - f1_score: 0.1366 - val_loss: 1.6570 - val_accuracy: 0.8654 - val_precision: 0.6563 - val_recall: 0.1214 - val_auc: 0.7337 - val_f1_score: 0.2028 - lr: 0.0010\n",
            "Epoch 5/100\n",
            "359/359 [==============================] - 39s 108ms/step - loss: 1.6487 - accuracy: 0.8630 - precision: 0.6451 - recall: 0.0912 - auc: 0.7396 - f1_score: 0.1586 - val_loss: 1.6370 - val_accuracy: 0.8619 - val_precision: 0.7178 - val_recall: 0.0554 - val_auc: 0.7498 - val_f1_score: 0.1016 - lr: 0.0010\n",
            "Epoch 6/100\n",
            "359/359 [==============================] - 38s 107ms/step - loss: 1.7306 - accuracy: 0.8577 - precision: 0.5658 - recall: 0.0170 - auc: 0.7016 - f1_score: 0.0315 - val_loss: 1.8016 - val_accuracy: 0.8571 - val_precision: 0.0000e+00 - val_recall: 0.0000e+00 - val_auc: 0.6638 - val_f1_score: 0.0000e+00 - lr: 0.0010\n",
            "Epoch 7/100\n",
            "359/359 [==============================] - 39s 107ms/step - loss: 1.7108 - accuracy: 0.8585 - precision: 0.6560 - recall: 0.0206 - auc: 0.7112 - f1_score: 0.0393 - val_loss: 1.7731 - val_accuracy: 0.8571 - val_precision: 0.5000 - val_recall: 5.2256e-04 - val_auc: 0.6814 - val_f1_score: 0.0010 - lr: 0.0010\n",
            "Epoch 8/100\n",
            "359/359 [==============================] - 38s 107ms/step - loss: 1.6929 - accuracy: 0.8595 - precision: 0.6252 - recall: 0.0412 - auc: 0.7212 - f1_score: 0.0759 - val_loss: 1.6919 - val_accuracy: 0.8584 - val_precision: 0.8125 - val_recall: 0.0113 - val_auc: 0.7249 - val_f1_score: 0.0220 - lr: 0.0010\n",
            "Epoch 9/100\n",
            "359/359 [==============================] - 38s 107ms/step - loss: 1.6695 - accuracy: 0.8610 - precision: 0.6168 - recall: 0.0715 - auc: 0.7317 - f1_score: 0.1265 - val_loss: 1.6521 - val_accuracy: 0.8617 - val_precision: 0.8182 - val_recall: 0.0408 - val_auc: 0.7421 - val_f1_score: 0.0765 - lr: 0.0010\n",
            "Epoch 10/100\n",
            "359/359 [==============================] - 38s 107ms/step - loss: 1.6443 - accuracy: 0.8630 - precision: 0.6358 - recall: 0.0961 - auc: 0.7424 - f1_score: 0.1660 - val_loss: 1.6728 - val_accuracy: 0.8655 - val_precision: 0.7523 - val_recall: 0.0873 - val_auc: 0.7310 - val_f1_score: 0.1546 - lr: 0.0010\n",
            "Epoch 11/100\n",
            "359/359 [==============================] - 39s 107ms/step - loss: 1.6370 - accuracy: 0.8638 - precision: 0.6523 - recall: 0.0996 - auc: 0.7447 - f1_score: 0.1717 - val_loss: 1.6614 - val_accuracy: 0.8660 - val_precision: 0.7068 - val_recall: 0.1054 - val_auc: 0.7354 - val_f1_score: 0.1815 - lr: 0.0010\n",
            "Epoch 12/100\n",
            "359/359 [==============================] - 39s 108ms/step - loss: 1.6423 - accuracy: 0.8632 - precision: 0.6568 - recall: 0.0893 - auc: 0.7426 - f1_score: 0.1536 - val_loss: 1.8670 - val_accuracy: 0.8585 - val_precision: 0.5758 - val_recall: 0.0357 - val_auc: 0.6118 - val_f1_score: 0.0665 - lr: 0.0010\n",
            "Epoch 13/100\n",
            "359/359 [==============================] - 39s 108ms/step - loss: 1.7055 - accuracy: 0.8581 - precision: 0.6462 - recall: 0.0151 - auc: 0.7148 - f1_score: 0.0292 - val_loss: 1.7795 - val_accuracy: 0.8572 - val_precision: 1.0000 - val_recall: 1.7419e-04 - val_auc: 0.6790 - val_f1_score: 3.4188e-04 - lr: 0.0010\n",
            "Epoch 14/100\n",
            "359/359 [==============================] - 40s 112ms/step - loss: 1.6878 - accuracy: 0.8588 - precision: 0.6409 - recall: 0.0259 - auc: 0.7233 - f1_score: 0.0492 - val_loss: 1.6876 - val_accuracy: 0.8576 - val_precision: 0.8214 - val_recall: 0.0040 - val_auc: 0.7247 - val_f1_score: 0.0080 - lr: 0.0010\n",
            "Epoch 15/100\n",
            "359/359 [==============================] - 39s 108ms/step - loss: 1.6793 - accuracy: 0.8597 - precision: 0.6251 - recall: 0.0447 - auc: 0.7276 - f1_score: 0.0820 - val_loss: 1.6356 - val_accuracy: 0.8655 - val_precision: 0.6361 - val_recall: 0.1364 - val_auc: 0.7460 - val_f1_score: 0.2228 - lr: 0.0010\n",
            "Epoch 16/100\n",
            "359/359 [==============================] - 39s 108ms/step - loss: 1.6656 - accuracy: 0.8614 - precision: 0.6348 - recall: 0.0702 - auc: 0.7338 - f1_score: 0.1257 - val_loss: 1.6547 - val_accuracy: 0.8619 - val_precision: 0.8294 - val_recall: 0.0423 - val_auc: 0.7374 - val_f1_score: 0.0793 - lr: 0.0010\n",
            "Epoch 17/100\n",
            "359/359 [==============================] - 39s 107ms/step - loss: 1.6528 - accuracy: 0.8628 - precision: 0.6549 - recall: 0.0843 - auc: 0.7398 - f1_score: 0.1484 - val_loss: 1.9736 - val_accuracy: 0.8629 - val_precision: 0.6897 - val_recall: 0.0732 - val_auc: 0.7560 - val_f1_score: 0.1309 - lr: 0.0010\n",
            "Epoch 18/100\n",
            "359/359 [==============================] - 38s 106ms/step - loss: 1.6356 - accuracy: 0.8635 - precision: 0.6446 - recall: 0.0999 - auc: 0.7466 - f1_score: 0.1714 - val_loss: 1.6699 - val_accuracy: 0.8631 - val_precision: 0.7464 - val_recall: 0.0636 - val_auc: 0.7304 - val_f1_score: 0.1161 - lr: 0.0010\n",
            "Epoch 19/100\n",
            "359/359 [==============================] - 39s 109ms/step - loss: 1.6537 - accuracy: 0.8626 - precision: 0.6453 - recall: 0.0856 - auc: 0.7373 - f1_score: 0.1495 - val_loss: 1.6843 - val_accuracy: 0.8617 - val_precision: 0.8675 - val_recall: 0.0376 - val_auc: 0.7231 - val_f1_score: 0.0711 - lr: 0.0010\n",
            "Epoch 20/100\n",
            "359/359 [==============================] - 39s 108ms/step - loss: 1.6352 - accuracy: 0.8645 - precision: 0.6656 - recall: 0.1029 - auc: 0.7461 - f1_score: 0.1773 - val_loss: 1.7291 - val_accuracy: 0.8623 - val_precision: 0.8355 - val_recall: 0.0451 - val_auc: 0.6993 - val_f1_score: 0.0840 - lr: 0.0010\n",
            "Epoch 21/100\n",
            "359/359 [==============================] - 38s 106ms/step - loss: 1.6161 - accuracy: 0.8653 - precision: 0.6710 - recall: 0.1114 - auc: 0.7541 - f1_score: 0.1900 - val_loss: 1.6886 - val_accuracy: 0.8663 - val_precision: 0.7336 - val_recall: 0.1012 - val_auc: 0.7205 - val_f1_score: 0.1764 - lr: 0.0010\n",
            "Epoch 22/100\n",
            "359/359 [==============================] - 38s 106ms/step - loss: 1.6093 - accuracy: 0.8658 - precision: 0.6748 - recall: 0.1176 - auc: 0.7553 - f1_score: 0.1991 - val_loss: 1.6370 - val_accuracy: 0.8643 - val_precision: 0.8192 - val_recall: 0.0639 - val_auc: 0.7465 - val_f1_score: 0.1171 - lr: 0.0010\n",
            "Epoch 23/100\n",
            "359/359 [==============================] - 38s 106ms/step - loss: 1.6041 - accuracy: 0.8664 - precision: 0.6817 - recall: 0.1215 - auc: 0.7582 - f1_score: 0.2053 - val_loss: 37.5687 - val_accuracy: 0.8140 - val_precision: 0.2782 - val_recall: 0.1892 - val_auc: 0.6201 - val_f1_score: 0.2251 - lr: 0.0010\n",
            "Epoch 24/100\n",
            "359/359 [==============================] - 40s 110ms/step - loss: 1.5990 - accuracy: 0.8665 - precision: 0.6818 - recall: 0.1234 - auc: 0.7606 - f1_score: 0.2082 - val_loss: 1.6434 - val_accuracy: 0.8682 - val_precision: 0.7075 - val_recall: 0.1319 - val_auc: 0.7418 - val_f1_score: 0.2209 - lr: 0.0010\n",
            "Epoch 25/100\n",
            "359/359 [==============================] - 38s 106ms/step - loss: 1.5839 - accuracy: 0.8675 - precision: 0.6949 - recall: 0.1295 - auc: 0.7653 - f1_score: 0.2174 - val_loss: 1.6233 - val_accuracy: 0.8675 - val_precision: 0.8210 - val_recall: 0.0927 - val_auc: 0.7484 - val_f1_score: 0.1645 - lr: 0.0010\n",
            "Epoch 26/100\n",
            "359/359 [==============================] - 38s 106ms/step - loss: 1.6035 - accuracy: 0.8663 - precision: 0.6743 - recall: 0.1246 - auc: 0.7588 - f1_score: 0.2088 - val_loss: 1.7107 - val_accuracy: 0.8662 - val_precision: 0.7034 - val_recall: 0.1090 - val_auc: 0.7275 - val_f1_score: 0.1874 - lr: 0.0010\n",
            "Epoch 27/100\n",
            "359/359 [==============================] - 39s 107ms/step - loss: 1.5816 - accuracy: 0.8675 - precision: 0.6861 - recall: 0.1341 - auc: 0.7670 - f1_score: 0.2232 - val_loss: 1.6511 - val_accuracy: 0.8648 - val_precision: 0.8341 - val_recall: 0.0665 - val_auc: 0.7414 - val_f1_score: 0.1220 - lr: 0.0010\n",
            "Epoch 28/100\n",
            "359/359 [==============================] - 38s 106ms/step - loss: 1.5656 - accuracy: 0.8681 - precision: 0.6932 - recall: 0.1371 - auc: 0.7733 - f1_score: 0.2279 - val_loss: 1.6611 - val_accuracy: 0.8658 - val_precision: 0.8063 - val_recall: 0.0798 - val_auc: 0.7371 - val_f1_score: 0.1433 - lr: 0.0010\n",
            "Epoch 29/100\n",
            "359/359 [==============================] - 38s 106ms/step - loss: 1.5635 - accuracy: 0.8682 - precision: 0.6949 - recall: 0.1384 - auc: 0.7742 - f1_score: 0.2299 - val_loss: 1.5895 - val_accuracy: 0.8659 - val_precision: 0.8514 - val_recall: 0.0739 - val_auc: 0.7681 - val_f1_score: 0.1337 - lr: 0.0010\n",
            "Epoch 30/100\n",
            "359/359 [==============================] - 38s 106ms/step - loss: 1.5548 - accuracy: 0.8690 - precision: 0.7080 - recall: 0.1409 - auc: 0.7776 - f1_score: 0.2341 - val_loss: 1.5984 - val_accuracy: 0.8666 - val_precision: 0.8435 - val_recall: 0.0817 - val_auc: 0.7650 - val_f1_score: 0.1474 - lr: 0.0010\n",
            "Epoch 31/100\n",
            "359/359 [==============================] - 38s 106ms/step - loss: 1.5390 - accuracy: 0.8692 - precision: 0.7014 - recall: 0.1473 - auc: 0.7839 - f1_score: 0.2425 - val_loss: 1.6228 - val_accuracy: 0.8651 - val_precision: 0.8478 - val_recall: 0.0679 - val_auc: 0.7637 - val_f1_score: 0.1243 - lr: 0.0010\n",
            "Epoch 32/100\n",
            "359/359 [==============================] - 41s 113ms/step - loss: 1.5291 - accuracy: 0.8700 - precision: 0.7043 - recall: 0.1546 - auc: 0.7884 - f1_score: 0.2528 - val_loss: 1.5811 - val_accuracy: 0.8702 - val_precision: 0.7415 - val_recall: 0.1404 - val_auc: 0.7693 - val_f1_score: 0.2339 - lr: 0.0010\n",
            "Epoch 33/100\n",
            "359/359 [==============================] - 38s 107ms/step - loss: 1.5312 - accuracy: 0.8693 - precision: 0.6963 - recall: 0.1507 - auc: 0.7861 - f1_score: 0.2468 - val_loss: 1.5764 - val_accuracy: 0.8690 - val_precision: 0.7873 - val_recall: 0.1141 - val_auc: 0.7722 - val_f1_score: 0.1977 - lr: 0.0010\n",
            "Epoch 34/100\n",
            "359/359 [==============================] - 38s 107ms/step - loss: 1.5170 - accuracy: 0.8703 - precision: 0.7056 - recall: 0.1582 - auc: 0.7917 - f1_score: 0.2574 - val_loss: 1.5483 - val_accuracy: 0.8689 - val_precision: 0.7602 - val_recall: 0.1204 - val_auc: 0.7799 - val_f1_score: 0.2057 - lr: 0.0010\n",
            "Epoch 35/100\n",
            "359/359 [==============================] - 38s 107ms/step - loss: 1.5082 - accuracy: 0.8700 - precision: 0.6900 - recall: 0.1632 - auc: 0.7950 - f1_score: 0.2627 - val_loss: 1.5922 - val_accuracy: 0.8693 - val_precision: 0.7888 - val_recall: 0.1158 - val_auc: 0.7686 - val_f1_score: 0.2004 - lr: 0.0010\n",
            "Epoch 36/100\n",
            "359/359 [==============================] - 38s 105ms/step - loss: 1.5003 - accuracy: 0.8709 - precision: 0.6970 - recall: 0.1708 - auc: 0.7971 - f1_score: 0.2733 - val_loss: 1.5617 - val_accuracy: 0.8668 - val_precision: 0.8212 - val_recall: 0.0864 - val_auc: 0.7767 - val_f1_score: 0.1550 - lr: 0.0010\n",
            "Epoch 37/100\n",
            "359/359 [==============================] - 38s 107ms/step - loss: 1.4965 - accuracy: 0.8704 - precision: 0.6941 - recall: 0.1653 - auc: 0.7989 - f1_score: 0.2659 - val_loss: 1.5202 - val_accuracy: 0.8698 - val_precision: 0.8242 - val_recall: 0.1127 - val_auc: 0.7931 - val_f1_score: 0.1964 - lr: 0.0010\n",
            "Epoch 38/100\n",
            "359/359 [==============================] - 39s 107ms/step - loss: 1.4862 - accuracy: 0.8716 - precision: 0.7039 - recall: 0.1744 - auc: 0.8016 - f1_score: 0.2787 - val_loss: 1.5963 - val_accuracy: 0.8663 - val_precision: 0.8370 - val_recall: 0.0796 - val_auc: 0.7762 - val_f1_score: 0.1441 - lr: 0.0010\n",
            "Epoch 39/100\n",
            "359/359 [==============================] - 39s 108ms/step - loss: 1.4989 - accuracy: 0.8709 - precision: 0.7046 - recall: 0.1654 - auc: 0.7973 - f1_score: 0.2661 - val_loss: 1.5238 - val_accuracy: 0.8718 - val_precision: 0.8056 - val_recall: 0.1357 - val_auc: 0.7872 - val_f1_score: 0.2292 - lr: 0.0010\n",
            "Epoch 40/100\n",
            "359/359 [==============================] - 39s 110ms/step - loss: 1.4883 - accuracy: 0.8711 - precision: 0.7005 - recall: 0.1712 - auc: 0.8013 - f1_score: 0.2741 - val_loss: 1.5423 - val_accuracy: 0.8700 - val_precision: 0.7488 - val_recall: 0.1355 - val_auc: 0.7885 - val_f1_score: 0.2272 - lr: 0.0010\n",
            "Epoch 41/100\n",
            "359/359 [==============================] - 39s 109ms/step - loss: 1.4718 - accuracy: 0.8717 - precision: 0.6988 - recall: 0.1792 - auc: 0.8063 - f1_score: 0.2838 - val_loss: 1.5124 - val_accuracy: 0.8705 - val_precision: 0.8255 - val_recall: 0.1186 - val_auc: 0.7951 - val_f1_score: 0.2052 - lr: 0.0010\n",
            "Epoch 42/100\n",
            "359/359 [==============================] - 39s 109ms/step - loss: 1.4683 - accuracy: 0.8728 - precision: 0.7116 - recall: 0.1840 - auc: 0.8074 - f1_score: 0.2914 - val_loss: 1.5620 - val_accuracy: 0.8664 - val_precision: 0.8204 - val_recall: 0.0827 - val_auc: 0.7765 - val_f1_score: 0.1488 - lr: 0.0010\n",
            "Epoch 43/100\n",
            "359/359 [==============================] - 42s 116ms/step - loss: 1.4590 - accuracy: 0.8730 - precision: 0.7156 - recall: 0.1836 - auc: 0.8102 - f1_score: 0.2912 - val_loss: 1.5205 - val_accuracy: 0.8709 - val_precision: 0.8169 - val_recall: 0.1244 - val_auc: 0.7889 - val_f1_score: 0.2143 - lr: 0.0010\n",
            "Epoch 44/100\n",
            "359/359 [==============================] - 39s 109ms/step - loss: 1.4651 - accuracy: 0.8729 - precision: 0.7094 - recall: 0.1866 - auc: 0.8088 - f1_score: 0.2945 - val_loss: 1.5170 - val_accuracy: 0.8699 - val_precision: 0.8238 - val_recall: 0.1132 - val_auc: 0.7974 - val_f1_score: 0.1967 - lr: 0.0010\n",
            "Epoch 45/100\n",
            "359/359 [==============================] - 39s 109ms/step - loss: 1.4520 - accuracy: 0.8729 - precision: 0.7073 - recall: 0.1885 - auc: 0.8127 - f1_score: 0.2967 - val_loss: 1.5217 - val_accuracy: 0.8698 - val_precision: 0.8165 - val_recall: 0.1139 - val_auc: 0.8018 - val_f1_score: 0.1982 - lr: 0.0010\n",
            "Epoch 46/100\n",
            "359/359 [==============================] - 39s 109ms/step - loss: 1.4480 - accuracy: 0.8738 - precision: 0.7141 - recall: 0.1941 - auc: 0.8140 - f1_score: 0.3041 - val_loss: 1.4690 - val_accuracy: 0.8737 - val_precision: 0.7959 - val_recall: 0.1562 - val_auc: 0.8133 - val_f1_score: 0.2585 - lr: 0.0010\n",
            "Epoch 47/100\n",
            "359/359 [==============================] - 39s 108ms/step - loss: 1.4386 - accuracy: 0.8736 - precision: 0.7069 - recall: 0.1964 - auc: 0.8163 - f1_score: 0.3064 - val_loss: 1.4805 - val_accuracy: 0.8725 - val_precision: 0.7897 - val_recall: 0.1465 - val_auc: 0.8086 - val_f1_score: 0.2452 - lr: 0.0010\n",
            "Epoch 48/100\n",
            "359/359 [==============================] - 41s 115ms/step - loss: 1.4359 - accuracy: 0.8739 - precision: 0.7087 - recall: 0.1993 - auc: 0.8173 - f1_score: 0.3102 - val_loss: 1.4859 - val_accuracy: 0.8735 - val_precision: 0.8282 - val_recall: 0.1444 - val_auc: 0.8073 - val_f1_score: 0.2439 - lr: 0.0010\n",
            "Epoch 49/100\n",
            "359/359 [==============================] - 39s 110ms/step - loss: 1.4306 - accuracy: 0.8745 - precision: 0.7124 - recall: 0.2042 - auc: 0.8190 - f1_score: 0.3166 - val_loss: 1.4814 - val_accuracy: 0.8737 - val_precision: 0.7935 - val_recall: 0.1566 - val_auc: 0.8097 - val_f1_score: 0.2591 - lr: 0.0010\n",
            "Epoch 50/100\n",
            "359/359 [==============================] - 39s 110ms/step - loss: 1.4229 - accuracy: 0.8745 - precision: 0.7053 - recall: 0.2083 - auc: 0.8213 - f1_score: 0.3205 - val_loss: 1.4490 - val_accuracy: 0.8736 - val_precision: 0.7596 - val_recall: 0.1684 - val_auc: 0.8128 - val_f1_score: 0.2736 - lr: 0.0010\n",
            "Epoch 51/100\n",
            "359/359 [==============================] - 40s 110ms/step - loss: 1.4214 - accuracy: 0.8751 - precision: 0.7123 - recall: 0.2110 - auc: 0.8222 - f1_score: 0.3247 - val_loss: 1.4453 - val_accuracy: 0.8745 - val_precision: 0.7897 - val_recall: 0.1655 - val_auc: 0.8152 - val_f1_score: 0.2712 - lr: 0.0010\n",
            "Epoch 52/100\n",
            "359/359 [==============================] - 39s 110ms/step - loss: 1.4252 - accuracy: 0.8743 - precision: 0.7046 - recall: 0.2063 - auc: 0.8206 - f1_score: 0.3182 - val_loss: 1.4599 - val_accuracy: 0.8729 - val_precision: 0.7965 - val_recall: 0.1486 - val_auc: 0.8117 - val_f1_score: 0.2483 - lr: 0.0010\n",
            "Epoch 53/100\n",
            "359/359 [==============================] - 39s 110ms/step - loss: 1.4079 - accuracy: 0.8754 - precision: 0.7137 - recall: 0.2132 - auc: 0.8257 - f1_score: 0.3274 - val_loss: 1.4435 - val_accuracy: 0.8724 - val_precision: 0.8062 - val_recall: 0.1406 - val_auc: 0.8169 - val_f1_score: 0.2368 - lr: 0.0010\n",
            "Epoch 54/100\n",
            "359/359 [==============================] - 40s 110ms/step - loss: 1.4067 - accuracy: 0.8756 - precision: 0.7168 - recall: 0.2138 - auc: 0.8263 - f1_score: 0.3283 - val_loss: 1.4658 - val_accuracy: 0.8727 - val_precision: 0.7247 - val_recall: 0.1756 - val_auc: 0.8072 - val_f1_score: 0.2806 - lr: 0.0010\n",
            "Epoch 55/100\n",
            "359/359 [==============================] - 39s 110ms/step - loss: 1.4027 - accuracy: 0.8752 - precision: 0.7061 - recall: 0.2163 - auc: 0.8272 - f1_score: 0.3299 - val_loss: 1.4373 - val_accuracy: 0.8738 - val_precision: 0.8143 - val_recall: 0.1512 - val_auc: 0.8190 - val_f1_score: 0.2531 - lr: 0.0010\n",
            "Epoch 56/100\n",
            "359/359 [==============================] - 42s 117ms/step - loss: 1.3965 - accuracy: 0.8761 - precision: 0.7109 - recall: 0.2231 - auc: 0.8286 - f1_score: 0.3386 - val_loss: 1.4239 - val_accuracy: 0.8754 - val_precision: 0.7873 - val_recall: 0.1747 - val_auc: 0.8207 - val_f1_score: 0.2835 - lr: 0.0010\n",
            "Epoch 57/100\n",
            "359/359 [==============================] - 39s 107ms/step - loss: 1.3918 - accuracy: 0.8765 - precision: 0.7164 - recall: 0.2239 - auc: 0.8307 - f1_score: 0.3400 - val_loss: 1.4343 - val_accuracy: 0.8752 - val_precision: 0.7927 - val_recall: 0.1712 - val_auc: 0.8163 - val_f1_score: 0.2790 - lr: 0.0010\n",
            "Epoch 58/100\n",
            "359/359 [==============================] - 38s 107ms/step - loss: 1.3886 - accuracy: 0.8761 - precision: 0.7113 - recall: 0.2229 - auc: 0.8310 - f1_score: 0.3384 - val_loss: 1.4704 - val_accuracy: 0.8744 - val_precision: 0.7092 - val_recall: 0.2052 - val_auc: 0.8083 - val_f1_score: 0.3164 - lr: 0.0010\n",
            "Epoch 59/100\n",
            "359/359 [==============================] - 39s 108ms/step - loss: 1.3893 - accuracy: 0.8763 - precision: 0.7079 - recall: 0.2280 - auc: 0.8316 - f1_score: 0.3436 - val_loss: 1.4430 - val_accuracy: 0.8717 - val_precision: 0.8012 - val_recall: 0.1355 - val_auc: 0.8192 - val_f1_score: 0.2299 - lr: 0.0010\n",
            "Epoch 60/100\n",
            "359/359 [==============================] - 38s 106ms/step - loss: 1.3784 - accuracy: 0.8770 - precision: 0.7115 - recall: 0.2342 - auc: 0.8339 - f1_score: 0.3513 - val_loss: 1.4166 - val_accuracy: 0.8752 - val_precision: 0.7993 - val_recall: 0.1686 - val_auc: 0.8250 - val_f1_score: 0.2757 - lr: 0.0010\n",
            "Epoch 61/100\n",
            "359/359 [==============================] - 39s 109ms/step - loss: 1.3750 - accuracy: 0.8774 - precision: 0.7162 - recall: 0.2348 - auc: 0.8347 - f1_score: 0.3526 - val_loss: 1.4405 - val_accuracy: 0.8741 - val_precision: 0.7436 - val_recall: 0.1808 - val_auc: 0.8159 - val_f1_score: 0.2883 - lr: 0.0010\n",
            "Epoch 62/100\n",
            "359/359 [==============================] - 40s 110ms/step - loss: 1.3710 - accuracy: 0.8768 - precision: 0.7115 - recall: 0.2314 - auc: 0.8356 - f1_score: 0.3480 - val_loss: 1.4198 - val_accuracy: 0.8760 - val_precision: 0.7445 - val_recall: 0.2005 - val_auc: 0.8211 - val_f1_score: 0.3139 - lr: 0.0010\n",
            "Epoch 63/100\n",
            "359/359 [==============================] - 40s 110ms/step - loss: 1.3715 - accuracy: 0.8775 - precision: 0.7121 - recall: 0.2389 - auc: 0.8358 - f1_score: 0.3566 - val_loss: 1.4122 - val_accuracy: 0.8759 - val_precision: 0.7561 - val_recall: 0.1939 - val_auc: 0.8231 - val_f1_score: 0.3062 - lr: 0.0010\n",
            "Epoch 64/100\n",
            "359/359 [==============================] - 39s 109ms/step - loss: 1.3608 - accuracy: 0.8777 - precision: 0.7139 - recall: 0.2400 - auc: 0.8387 - f1_score: 0.3584 - val_loss: 1.4132 - val_accuracy: 0.8768 - val_precision: 0.7495 - val_recall: 0.2069 - val_auc: 0.8221 - val_f1_score: 0.3218 - lr: 0.0010\n",
            "Epoch 65/100\n",
            "359/359 [==============================] - 39s 108ms/step - loss: 1.3621 - accuracy: 0.8781 - precision: 0.7115 - recall: 0.2470 - auc: 0.8377 - f1_score: 0.3655 - val_loss: 1.4410 - val_accuracy: 0.8739 - val_precision: 0.7936 - val_recall: 0.1587 - val_auc: 0.8183 - val_f1_score: 0.2621 - lr: 0.0010\n",
            "Epoch 66/100\n",
            "359/359 [==============================] - 40s 111ms/step - loss: 1.3568 - accuracy: 0.8778 - precision: 0.7133 - recall: 0.2421 - auc: 0.8395 - f1_score: 0.3603 - val_loss: 1.4102 - val_accuracy: 0.8758 - val_precision: 0.7848 - val_recall: 0.1798 - val_auc: 0.8253 - val_f1_score: 0.2908 - lr: 0.0010\n",
            "Epoch 67/100\n",
            "359/359 [==============================] - 38s 106ms/step - loss: 1.3509 - accuracy: 0.8787 - precision: 0.7139 - recall: 0.2513 - auc: 0.8411 - f1_score: 0.3705 - val_loss: 1.3843 - val_accuracy: 0.8777 - val_precision: 0.7631 - val_recall: 0.2087 - val_auc: 0.8326 - val_f1_score: 0.3259 - lr: 0.0010\n",
            "Epoch 68/100\n",
            "359/359 [==============================] - 38s 106ms/step - loss: 1.3445 - accuracy: 0.8789 - precision: 0.7145 - recall: 0.2532 - auc: 0.8427 - f1_score: 0.3726 - val_loss: 1.4445 - val_accuracy: 0.8752 - val_precision: 0.7284 - val_recall: 0.2014 - val_auc: 0.8154 - val_f1_score: 0.3135 - lr: 0.0010\n",
            "Epoch 69/100\n",
            "359/359 [==============================] - 38s 106ms/step - loss: 1.3513 - accuracy: 0.8784 - precision: 0.7113 - recall: 0.2504 - auc: 0.8409 - f1_score: 0.3693 - val_loss: 1.3931 - val_accuracy: 0.8777 - val_precision: 0.7699 - val_recall: 0.2057 - val_auc: 0.8293 - val_f1_score: 0.3221 - lr: 0.0010\n",
            "Epoch 70/100\n",
            "359/359 [==============================] - 37s 104ms/step - loss: 1.3467 - accuracy: 0.8780 - precision: 0.7039 - recall: 0.2517 - auc: 0.8424 - f1_score: 0.3696 - val_loss: 1.4142 - val_accuracy: 0.8760 - val_precision: 0.7855 - val_recall: 0.1812 - val_auc: 0.8239 - val_f1_score: 0.2925 - lr: 0.0010\n",
            "Epoch 71/100\n",
            "359/359 [==============================] - 40s 110ms/step - loss: 1.3357 - accuracy: 0.8793 - precision: 0.7141 - recall: 0.2590 - auc: 0.8448 - f1_score: 0.3788 - val_loss: 1.3872 - val_accuracy: 0.8780 - val_precision: 0.7533 - val_recall: 0.2170 - val_auc: 0.8316 - val_f1_score: 0.3350 - lr: 0.0010\n",
            "Epoch 72/100\n",
            "359/359 [==============================] - 38s 106ms/step - loss: 1.3417 - accuracy: 0.8787 - precision: 0.7071 - recall: 0.2574 - auc: 0.8437 - f1_score: 0.3762 - val_loss: 1.4170 - val_accuracy: 0.8745 - val_precision: 0.7553 - val_recall: 0.1801 - val_auc: 0.8229 - val_f1_score: 0.2879 - lr: 0.0010\n",
            "Epoch 73/100\n",
            "359/359 [==============================] - 40s 112ms/step - loss: 1.3316 - accuracy: 0.8795 - precision: 0.7175 - recall: 0.2580 - auc: 0.8462 - f1_score: 0.3786 - val_loss: 1.3836 - val_accuracy: 0.8773 - val_precision: 0.7511 - val_recall: 0.2113 - val_auc: 0.8326 - val_f1_score: 0.3276 - lr: 0.0010\n",
            "Epoch 74/100\n",
            "359/359 [==============================] - 38s 106ms/step - loss: 1.3279 - accuracy: 0.8799 - precision: 0.7186 - recall: 0.2624 - auc: 0.8470 - f1_score: 0.3832 - val_loss: 1.4666 - val_accuracy: 0.8723 - val_precision: 0.7417 - val_recall: 0.1625 - val_auc: 0.8078 - val_f1_score: 0.2643 - lr: 0.0010\n",
            "Epoch 75/100\n",
            "359/359 [==============================] - 38s 105ms/step - loss: 1.3227 - accuracy: 0.8801 - precision: 0.7161 - recall: 0.2663 - auc: 0.8483 - f1_score: 0.3872 - val_loss: 1.3869 - val_accuracy: 0.8760 - val_precision: 0.7368 - val_recall: 0.2048 - val_auc: 0.8321 - val_f1_score: 0.3187 - lr: 0.0010\n",
            "Epoch 76/100\n",
            "359/359 [==============================] - 38s 107ms/step - loss: 1.3280 - accuracy: 0.8795 - precision: 0.7128 - recall: 0.2626 - auc: 0.8470 - f1_score: 0.3828 - val_loss: 1.3796 - val_accuracy: 0.8787 - val_precision: 0.7304 - val_recall: 0.2388 - val_auc: 0.8335 - val_f1_score: 0.3576 - lr: 0.0010\n",
            "Epoch 77/100\n",
            "359/359 [==============================] - 38s 106ms/step - loss: 1.3142 - accuracy: 0.8813 - precision: 0.7220 - recall: 0.2752 - auc: 0.8502 - f1_score: 0.3977 - val_loss: 1.3738 - val_accuracy: 0.8778 - val_precision: 0.7605 - val_recall: 0.2113 - val_auc: 0.8353 - val_f1_score: 0.3287 - lr: 0.0010\n",
            "Epoch 78/100\n",
            "359/359 [==============================] - 38s 106ms/step - loss: 1.3612 - accuracy: 0.8775 - precision: 0.7152 - recall: 0.2362 - auc: 0.8381 - f1_score: 0.3533 - val_loss: 1.4375 - val_accuracy: 0.8750 - val_precision: 0.7689 - val_recall: 0.1785 - val_auc: 0.8164 - val_f1_score: 0.2885 - lr: 0.0010\n",
            "Epoch 79/100\n",
            "359/359 [==============================] - 38s 106ms/step - loss: 1.3260 - accuracy: 0.8804 - precision: 0.7215 - recall: 0.2650 - auc: 0.8472 - f1_score: 0.3865 - val_loss: 1.4200 - val_accuracy: 0.8757 - val_precision: 0.7348 - val_recall: 0.2036 - val_auc: 0.8222 - val_f1_score: 0.3166 - lr: 0.0010\n",
            "Epoch 80/100\n",
            "359/359 [==============================] - 38s 106ms/step - loss: 1.3228 - accuracy: 0.8799 - precision: 0.7112 - recall: 0.2680 - auc: 0.8484 - f1_score: 0.3880 - val_loss: 1.3979 - val_accuracy: 0.8774 - val_precision: 0.7641 - val_recall: 0.2048 - val_auc: 0.8277 - val_f1_score: 0.3203 - lr: 0.0010\n",
            "Epoch 81/100\n",
            "359/359 [==============================] - 38s 106ms/step - loss: 1.3216 - accuracy: 0.8809 - precision: 0.7206 - recall: 0.2712 - auc: 0.8485 - f1_score: 0.3929 - val_loss: 1.3612 - val_accuracy: 0.8795 - val_precision: 0.7547 - val_recall: 0.2315 - val_auc: 0.8379 - val_f1_score: 0.3517 - lr: 0.0010\n",
            "Epoch 82/100\n",
            "359/359 [==============================] - 39s 108ms/step - loss: 1.3257 - accuracy: 0.8798 - precision: 0.7131 - recall: 0.2650 - auc: 0.8470 - f1_score: 0.3851 - val_loss: 1.3827 - val_accuracy: 0.8774 - val_precision: 0.7743 - val_recall: 0.2001 - val_auc: 0.8325 - val_f1_score: 0.3151 - lr: 0.0010\n",
            "Epoch 83/100\n",
            "359/359 [==============================] - 38s 105ms/step - loss: 1.3222 - accuracy: 0.8803 - precision: 0.7204 - recall: 0.2655 - auc: 0.8485 - f1_score: 0.3864 - val_loss: 1.3936 - val_accuracy: 0.8778 - val_precision: 0.7538 - val_recall: 0.2149 - val_auc: 0.8296 - val_f1_score: 0.3329 - lr: 0.0010\n",
            "Epoch 84/100\n",
            "359/359 [==============================] - 38s 106ms/step - loss: 1.3081 - accuracy: 0.8813 - precision: 0.7226 - recall: 0.2749 - auc: 0.8522 - f1_score: 0.3971 - val_loss: 1.3762 - val_accuracy: 0.8784 - val_precision: 0.7491 - val_recall: 0.2237 - val_auc: 0.8338 - val_f1_score: 0.3424 - lr: 0.0010\n",
            "Epoch 85/100\n",
            "359/359 [==============================] - 37s 104ms/step - loss: 1.3017 - accuracy: 0.8816 - precision: 0.7184 - recall: 0.2815 - auc: 0.8538 - f1_score: 0.4034 - val_loss: 1.3947 - val_accuracy: 0.8788 - val_precision: 0.7330 - val_recall: 0.2381 - val_auc: 0.8326 - val_f1_score: 0.3575 - lr: 0.0010\n",
            "Epoch 86/100\n",
            "359/359 [==============================] - 38s 105ms/step - loss: 1.3016 - accuracy: 0.8818 - precision: 0.7227 - recall: 0.2798 - auc: 0.8532 - f1_score: 0.4024 - val_loss: 1.3842 - val_accuracy: 0.8788 - val_precision: 0.7484 - val_recall: 0.2280 - val_auc: 0.8316 - val_f1_score: 0.3475 - lr: 0.0010\n",
            "Epoch 87/100\n",
            "359/359 [==============================] - 39s 109ms/step - loss: 1.2905 - accuracy: 0.8825 - precision: 0.7221 - recall: 0.2885 - auc: 0.8561 - f1_score: 0.4110 - val_loss: 1.3665 - val_accuracy: 0.8798 - val_precision: 0.7604 - val_recall: 0.2317 - val_auc: 0.8374 - val_f1_score: 0.3535 - lr: 0.0010\n",
            "Epoch 88/100\n",
            "359/359 [==============================] - 38s 105ms/step - loss: 1.2829 - accuracy: 0.8831 - precision: 0.7253 - recall: 0.2927 - auc: 0.8583 - f1_score: 0.4159 - val_loss: 1.3729 - val_accuracy: 0.8797 - val_precision: 0.7406 - val_recall: 0.2426 - val_auc: 0.8355 - val_f1_score: 0.3635 - lr: 0.0010\n",
            "Epoch 89/100\n",
            "359/359 [==============================] - 39s 109ms/step - loss: 1.2858 - accuracy: 0.8824 - precision: 0.7195 - recall: 0.2894 - auc: 0.8571 - f1_score: 0.4117 - val_loss: 1.4310 - val_accuracy: 0.8777 - val_precision: 0.7260 - val_recall: 0.2308 - val_auc: 0.8302 - val_f1_score: 0.3486 - lr: 0.0010\n",
            "Epoch 90/100\n",
            "359/359 [==============================] - 38s 107ms/step - loss: 1.2810 - accuracy: 0.8827 - precision: 0.7220 - recall: 0.2914 - auc: 0.8586 - f1_score: 0.4143 - val_loss: 1.4404 - val_accuracy: 0.8773 - val_precision: 0.6875 - val_recall: 0.2590 - val_auc: 0.8296 - val_f1_score: 0.3746 - lr: 0.0010\n",
            "Epoch 91/100\n",
            "359/359 [==============================] - 38s 107ms/step - loss: 1.2793 - accuracy: 0.8827 - precision: 0.7183 - recall: 0.2941 - auc: 0.8592 - f1_score: 0.4163 - val_loss: 1.3547 - val_accuracy: 0.8795 - val_precision: 0.7119 - val_recall: 0.2634 - val_auc: 0.8397 - val_f1_score: 0.3832 - lr: 0.0010\n",
            "Epoch 92/100\n",
            "359/359 [==============================] - 38s 105ms/step - loss: 1.2770 - accuracy: 0.8828 - precision: 0.7195 - recall: 0.2940 - auc: 0.8596 - f1_score: 0.4162 - val_loss: 1.3749 - val_accuracy: 0.8790 - val_precision: 0.7538 - val_recall: 0.2271 - val_auc: 0.8338 - val_f1_score: 0.3472 - lr: 0.0010\n",
            "Epoch 93/100\n",
            "359/359 [==============================] - 37s 104ms/step - loss: 1.2770 - accuracy: 0.8832 - precision: 0.7252 - recall: 0.2938 - auc: 0.8598 - f1_score: 0.4170 - val_loss: 1.3658 - val_accuracy: 0.8798 - val_precision: 0.7185 - val_recall: 0.2609 - val_auc: 0.8364 - val_f1_score: 0.3803 - lr: 0.0010\n",
            "Epoch 94/100\n",
            "359/359 [==============================] - 38s 105ms/step - loss: 1.2667 - accuracy: 0.8840 - precision: 0.7265 - recall: 0.3012 - auc: 0.8618 - f1_score: 0.4246 - val_loss: 1.4092 - val_accuracy: 0.8775 - val_precision: 0.7149 - val_recall: 0.2376 - val_auc: 0.8317 - val_f1_score: 0.3541 - lr: 0.0010\n",
            "Epoch 95/100\n",
            "359/359 [==============================] - 38s 107ms/step - loss: 1.2684 - accuracy: 0.8837 - precision: 0.7218 - recall: 0.3025 - auc: 0.8616 - f1_score: 0.4253 - val_loss: 1.3577 - val_accuracy: 0.8799 - val_precision: 0.7116 - val_recall: 0.2674 - val_auc: 0.8418 - val_f1_score: 0.3862 - lr: 0.0010\n",
            "Epoch 96/100\n",
            "359/359 [==============================] - 43s 119ms/step - loss: 1.2589 - accuracy: 0.8847 - precision: 0.7257 - recall: 0.3100 - auc: 0.8638 - f1_score: 0.4333 - val_loss: 1.3926 - val_accuracy: 0.8782 - val_precision: 0.6872 - val_recall: 0.2705 - val_auc: 0.8335 - val_f1_score: 0.3866 - lr: 0.0010\n",
            "Epoch 97/100\n",
            "359/359 [==============================] - 38s 106ms/step - loss: 1.2810 - accuracy: 0.8833 - precision: 0.7232 - recall: 0.2966 - auc: 0.8584 - f1_score: 0.4193 - val_loss: 1.3907 - val_accuracy: 0.8782 - val_precision: 0.7019 - val_recall: 0.2559 - val_auc: 0.8307 - val_f1_score: 0.3726 - lr: 0.0010\n",
            "Epoch 98/100\n",
            "359/359 [==============================] - 38s 106ms/step - loss: 1.2642 - accuracy: 0.8839 - precision: 0.7205 - recall: 0.3056 - auc: 0.8629 - f1_score: 0.4283 - val_loss: 1.3652 - val_accuracy: 0.8790 - val_precision: 0.7296 - val_recall: 0.2430 - val_auc: 0.8368 - val_f1_score: 0.3625 - lr: 0.0010\n",
            "Epoch 99/100\n",
            "359/359 [==============================] - 38s 107ms/step - loss: 1.3000 - accuracy: 0.8817 - precision: 0.7172 - recall: 0.2843 - auc: 0.8538 - f1_score: 0.4055 - val_loss: 1.3947 - val_accuracy: 0.8768 - val_precision: 0.7141 - val_recall: 0.2298 - val_auc: 0.8294 - val_f1_score: 0.3463 - lr: 0.0010\n",
            "Epoch 100/100\n",
            "359/359 [==============================] - 38s 106ms/step - loss: 1.2711 - accuracy: 0.8838 - precision: 0.7219 - recall: 0.3032 - auc: 0.8611 - f1_score: 0.4261 - val_loss: 1.3500 - val_accuracy: 0.8802 - val_precision: 0.7244 - val_recall: 0.2609 - val_auc: 0.8408 - val_f1_score: 0.3816 - lr: 0.0010\n"
          ]
        }
      ]
    },
    {
      "cell_type": "code",
      "source": [
        "model.save('fer_model_tf.h5') "
      ],
      "metadata": {
        "id": "FN2WY07ZuR_U"
      },
      "execution_count": null,
      "outputs": []
    },
    {
      "cell_type": "markdown",
      "source": [
        "# Model Test"
      ],
      "metadata": {
        "id": "DEkGFP_mC-Aw"
      }
    },
    {
      "cell_type": "code",
      "source": [
        "# Recreate the exact same model, including its weights and the optimizer\n",
        "my_model = tf.keras.models.load_model('/content/fer_model_tf.h5', custom_objects={'f1_score': f1_score})\n",
        "\n",
        "# Show the model architecture\n",
        "my_model.summary()"
      ],
      "metadata": {
        "colab": {
          "base_uri": "https://localhost:8080/"
        },
        "id": "yUB3Pye9MiuC",
        "outputId": "b023a204-2324-4493-a1ad-b21c5b0a0f2f"
      },
      "execution_count": null,
      "outputs": [
        {
          "output_type": "stream",
          "name": "stdout",
          "text": [
            "Model: \"sequential\"\n",
            "_________________________________________________________________\n",
            " Layer (type)                Output Shape              Param #   \n",
            "=================================================================\n",
            " vggface_vgg16 (Functional)  (None, 1, 1, 512)         14714688  \n",
            "                                                                 \n",
            " dropout (Dropout)           (None, 1, 1, 512)         0         \n",
            "                                                                 \n",
            " flatten (Flatten)           (None, 512)               0         \n",
            "                                                                 \n",
            " batch_normalization (BatchN  (None, 512)              2048      \n",
            " ormalization)                                                   \n",
            "                                                                 \n",
            " activation (Activation)     (None, 512)               0         \n",
            "                                                                 \n",
            " dense (Dense)               (None, 7)                 3591      \n",
            "                                                                 \n",
            "=================================================================\n",
            "Total params: 14,720,327\n",
            "Trainable params: 7,084,039\n",
            "Non-trainable params: 7,636,288\n",
            "_________________________________________________________________\n"
          ]
        }
      ]
    },
    {
      "cell_type": "code",
      "source": [
        "my_model.compile(optimizer='Adam', loss='categorical_crossentropy', metrics=METRICS)"
      ],
      "metadata": {
        "id": "nFuohil7r1ue"
      },
      "execution_count": null,
      "outputs": []
    },
    {
      "cell_type": "code",
      "source": [
        "test_dataset = test_datagen.flow_from_directory(directory = '/content/predict',\n",
        "                                                  target_size = (48,48),\n",
        "                                                  class_mode = 'categorical',\n",
        "                                                  batch_size = 64,\n",
        "                                                  shuffle=False)"
      ],
      "metadata": {
        "colab": {
          "base_uri": "https://localhost:8080/"
        },
        "id": "tPHezJfDP6TQ",
        "outputId": "a89559fb-4d1b-44f2-b3a2-749792afc111"
      },
      "execution_count": null,
      "outputs": [
        {
          "output_type": "stream",
          "name": "stdout",
          "text": [
            "Found 1 images belonging to 2 classes.\n"
          ]
        }
      ]
    },
    {
      "cell_type": "code",
      "source": [
        "emotion_dict = {0: 'angry', 1: 'disgust', 2: 'fear', 3: 'happy', 4: 'neutral', 5: 'sad', 6: 'surprise'}\n",
        "\n",
        "res = my_model.predict(test_dataset)\n",
        "for ans in res:\n",
        "    print('Answer for the 0 photo:', emotion_dict[np.argmax(ans)])"
      ],
      "metadata": {
        "colab": {
          "base_uri": "https://localhost:8080/"
        },
        "id": "Y9Hn3ehOPTIY",
        "outputId": "27b61d76-bc17-4ee3-d376-7c522dff459f"
      },
      "execution_count": null,
      "outputs": [
        {
          "output_type": "stream",
          "name": "stdout",
          "text": [
            "1/1 [==============================] - 1s 735ms/step\n",
            "Answer for the 0 photo: angry\n"
          ]
        }
      ]
    },
    {
      "cell_type": "code",
      "source": [
        "res"
      ],
      "metadata": {
        "colab": {
          "base_uri": "https://localhost:8080/"
        },
        "id": "vIlME99glYVp",
        "outputId": "8af6f588-7a08-4665-e70b-d7dcbbd75642"
      },
      "execution_count": null,
      "outputs": [
        {
          "output_type": "execute_result",
          "data": {
            "text/plain": [
              "array([[0.3401285 , 0.0396511 , 0.16722511, 0.01198076, 0.20423156,\n",
              "        0.1596915 , 0.0770914 ]], dtype=float32)"
            ]
          },
          "metadata": {},
          "execution_count": 10
        }
      ]
    }
  ]
}